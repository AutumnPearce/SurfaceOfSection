{
 "cells": [
  {
   "cell_type": "code",
   "execution_count": 1,
   "metadata": {},
   "outputs": [],
   "source": [
    "def surfOfSect_XDX(myTimes, myXPositions, myYPositions):\n",
    "    spline_TimeY = InterpolatedUnivariateSpline(myTimes, myYPositions)\n",
    "    spline_TimeX = InterpolatedUnivariateSpline(myTimes, myXPositions)\n",
    "    spline_TimeY.set_smoothing_factor(0.5)\n",
    "    spline_TimeX.set_smoothing_factor(0.5)\n",
    "    \n",
    "    myInterceptTimes = spline_TimeY.roots()\n",
    "    myInterceptTimes = myInterceptTimes[spline_TimeX(myInterceptTimes) >= 0]\n",
    "    \n",
    "    myInterceptPositions = spline_TimeX(myInterceptTimes)\n",
    "    \n",
    "    spline_xVel = spline_TimeX.derivative()\n",
    "    \n",
    "    myInterceptVelocities = spline_xVel(myInterceptTimes)\n",
    "    \n",
    "    return myInterceptPositions, myInterceptVelocities\n",
    "    \n",
    "#xIntercepts, dxOfIntercepts = surfOfSect_XDX(timesList, xPositions, yPositions)"
   ]
  }
 ],
 "metadata": {
  "kernelspec": {
   "display_name": "Python 3",
   "language": "python",
   "name": "python3"
  },
  "language_info": {
   "codemirror_mode": {
    "name": "ipython",
    "version": 3
   },
   "file_extension": ".py",
   "mimetype": "text/x-python",
   "name": "python",
   "nbconvert_exporter": "python",
   "pygments_lexer": "ipython3",
   "version": "3.8.5"
  }
 },
 "nbformat": 4,
 "nbformat_minor": 4
}
